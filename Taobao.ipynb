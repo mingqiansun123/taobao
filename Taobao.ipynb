{
 "cells": [
  {
   "cell_type": "code",
   "execution_count": 6,
   "metadata": {},
   "outputs": [
    {
     "name": "stdout",
     "output_type": "stream",
     "text": [
      "    user_id    item_id  behavior_type user_geohash  item_category  \\\n",
      "0  98047837  232431562              1          NaN           4245   \n",
      "1  97726136  383583590              1          NaN           5894   \n",
      "2  98607707   64749712              1          NaN           2883   \n",
      "3  98662432  320593836              1      96nn52n           6562   \n",
      "4  98145908  290208520              1          NaN          13926   \n",
      "\n",
      "            time  \n",
      "0  2014-12-06 02  \n",
      "1  2014-12-09 20  \n",
      "2  2014-12-18 11  \n",
      "3  2014-12-06 10  \n",
      "4  2014-12-16 21  \n",
      "<class 'pandas.core.frame.DataFrame'>\n",
      "RangeIndex: 802756 entries, 0 to 802755\n",
      "Data columns (total 6 columns):\n",
      " #   Column         Non-Null Count   Dtype \n",
      "---  ------         --------------   ----- \n",
      " 0   user_id        802756 non-null  int64 \n",
      " 1   item_id        802756 non-null  int64 \n",
      " 2   behavior_type  802756 non-null  int64 \n",
      " 3   user_geohash   252627 non-null  object\n",
      " 4   item_category  802756 non-null  int64 \n",
      " 5   time           802756 non-null  object\n",
      "dtypes: int64(4), object(2)\n",
      "memory usage: 30.6+ MB\n"
     ]
    }
   ],
   "source": [
    "#淘宝用户行为分析，2014年11月到12月\n",
    "#数据来源：https://tianchi.aliyun.com/dataset/dataDetail?dataId=46&userId=1\n",
    "#主要分析：日PV有多少，日UV有多少，付费率情况如何，复购率是多少，漏斗流失情况如何，用户价值情况\n",
    "#本数据集共有104万条左右数据，数据为淘宝APP2014年11月18日至2014年12月18日的用户行为数据，共计6列字段，列字段分别是：\n",
    "\n",
    "#user_id：用户身份，脱敏\n",
    "\n",
    "#item_id：商品ID，脱敏\n",
    "\n",
    "#behavior_type：用户行为类型（包含点击、收藏、加购物车、支付四种行为，分别用数字1、2、3、4表示）\n",
    "\n",
    "#user_geohash：地理位置\n",
    "\n",
    "#item_category：品类ID（商品所属的品类）\n",
    "\n",
    "#time：用户行为发生的时间\n",
    "\n",
    "#如果单独用单斜杠的话可能会产生误会，因为\\n可能代表换行也鞥代表路径\n",
    "#不用再使用pd.dataframe的操作了，这个code已经csv变成dataframe\n",
    "\n",
    "import pandas as pd\n",
    "import numpy as np\n",
    "import matplotlib.pyplot as plt\n",
    "import seaborn as sns\n",
    "\n",
    "data_user=pd.read_csv('userbeha.csv')\n",
    "\n",
    "#检查能否正常显示\n",
    "print(data_user.head())\n",
    "data_user.info()"
   ]
  },
  {
   "cell_type": "code",
   "execution_count": 7,
   "metadata": {},
   "outputs": [
    {
     "name": "stdout",
     "output_type": "stream",
     "text": [
      "user_id               0\n",
      "item_id               0\n",
      "behavior_type         0\n",
      "user_geohash     550129\n",
      "item_category         0\n",
      "time                  0\n",
      "dtype: int64\n"
     ]
    }
   ],
   "source": [
    "#isnull()将所有的元素都检查是否时空的，空的就会显示True。pd.isnull().any()指的时\n",
    "#判断哪些列有缺失值。df.isnull().sum()将每一列的缺失值的总和总结\n",
    "missingTotal=data_user.isnull().sum()\n",
    "#这个return 列名：缺失值总数\n",
    "\n",
    "print(missingTotal)\n",
    "missingExist=missingTotal[missingTotal>0]"
   ]
  },
  {
   "cell_type": "code",
   "execution_count": null,
   "metadata": {},
   "outputs": [],
   "source": []
  },
  {
   "cell_type": "code",
   "execution_count": 8,
   "metadata": {},
   "outputs": [
    {
     "name": "stdout",
     "output_type": "stream",
     "text": [
      "user_geohash    550129\n",
      "dtype: int64\n"
     ]
    }
   ],
   "source": [
    "#df.sort_values(by,axis=0,ascending=True,np_position='First')用法.axis指的是列axis=0列数不变\n",
    "#axis是1或者其他列时，将axis提到前面来，by指的是用哪一列作为标准。\n",
    "\n",
    "missingExist=missingExist.sort_values()\n",
    "\n",
    "#存在缺失值的是User_geohash，有717785条，不能删除缺失值，因为地理信息在数据集收集过程中做过加密转换，因此对数据集不做处理。\n",
    "#将最后一行删除，没有时间\n",
    "\n",
    "print(missingExist)"
   ]
  },
  {
   "cell_type": "code",
   "execution_count": 9,
   "metadata": {},
   "outputs": [
    {
     "name": "stdout",
     "output_type": "stream",
     "text": [
      "    user_id    item_id  behavior_type user_geohash  item_category  \\\n",
      "0  98047837  232431562              1          NaN           4245   \n",
      "1  97726136  383583590              1          NaN           5894   \n",
      "2  98607707   64749712              1          NaN           2883   \n",
      "3  98662432  320593836              1      96nn52n           6562   \n",
      "4  98145908  290208520              1          NaN          13926   \n",
      "\n",
      "            time        date hour  \n",
      "0  2014-12-06 02  2014-12-06   02  \n",
      "1  2014-12-09 20  2014-12-09   20  \n",
      "2  2014-12-18 11  2014-12-18   11  \n",
      "3  2014-12-06 10  2014-12-06   10  \n",
      "4  2014-12-16 21  2014-12-16   21  \n"
     ]
    }
   ],
   "source": [
    "date_list=[]\n",
    "hour_list=[]\n",
    "for t in data_user['time']:\n",
    "    d=t.split(' ')[0]\n",
    "    h=t.split(' ')[1]\n",
    "    date_list.append(d)\n",
    "    hour_list.append(h)\n",
    "data_user['date']=date_list\n",
    "data_user['hour']=hour_list\n",
    "print(data_user.head())"
   ]
  },
  {
   "cell_type": "code",
   "execution_count": 10,
   "metadata": {},
   "outputs": [
    {
     "name": "stdout",
     "output_type": "stream",
     "text": [
      "<class 'pandas.core.frame.DataFrame'>\n",
      "RangeIndex: 802756 entries, 0 to 802755\n",
      "Data columns (total 8 columns):\n",
      " #   Column         Non-Null Count   Dtype \n",
      "---  ------         --------------   ----- \n",
      " 0   user_id        802756 non-null  int64 \n",
      " 1   item_id        802756 non-null  int64 \n",
      " 2   behavior_type  802756 non-null  int64 \n",
      " 3   user_geohash   252627 non-null  object\n",
      " 4   item_category  802756 non-null  int64 \n",
      " 5   time           802756 non-null  object\n",
      " 6   date           802756 non-null  object\n",
      " 7   hour           802756 non-null  object\n",
      "dtypes: int64(4), object(4)\n",
      "memory usage: 36.7+ MB\n"
     ]
    }
   ],
   "source": [
    "data_user.info()"
   ]
  },
  {
   "cell_type": "code",
   "execution_count": 11,
   "metadata": {},
   "outputs": [],
   "source": [
    "data_user['time']=pd.to_datetime(data_user['time'])\n",
    "data_user['date']=pd.to_datetime(data_user['date'])\n",
    "data_user['hour']=data_user['hour'].astype('int64')"
   ]
  },
  {
   "cell_type": "code",
   "execution_count": 12,
   "metadata": {},
   "outputs": [
    {
     "name": "stdout",
     "output_type": "stream",
     "text": [
      "<class 'pandas.core.frame.DataFrame'>\n",
      "RangeIndex: 802756 entries, 0 to 802755\n",
      "Data columns (total 8 columns):\n",
      " #   Column         Non-Null Count   Dtype         \n",
      "---  ------         --------------   -----         \n",
      " 0   user_id        802756 non-null  int64         \n",
      " 1   item_id        802756 non-null  int64         \n",
      " 2   behavior_type  802756 non-null  int64         \n",
      " 3   user_geohash   252627 non-null  object        \n",
      " 4   item_category  802756 non-null  int64         \n",
      " 5   time           802756 non-null  datetime64[ns]\n",
      " 6   date           802756 non-null  datetime64[ns]\n",
      " 7   hour           802756 non-null  int64         \n",
      "dtypes: datetime64[ns](2), int64(5), object(1)\n",
      "memory usage: 45.9+ MB\n"
     ]
    }
   ],
   "source": [
    "data_user.info()"
   ]
  },
  {
   "cell_type": "code",
   "execution_count": 13,
   "metadata": {
    "scrolled": true
   },
   "outputs": [
    {
     "data": {
      "text/plain": [
       "user_id            6471\n",
       "item_id          554441\n",
       "behavior_type         4\n",
       "user_geohash     132483\n",
       "item_category      6753\n",
       "time                744\n",
       "date                 31\n",
       "hour                 24\n",
       "dtype: int64"
      ]
     },
     "execution_count": 13,
     "metadata": {},
     "output_type": "execute_result"
    }
   ],
   "source": [
    "data_user.nunique()"
   ]
  },
  {
   "cell_type": "code",
   "execution_count": 14,
   "metadata": {},
   "outputs": [],
   "source": [
    "#将拥有少量element的列换成category可以减少占寸\n",
    "data_user['behavior_type']= data_user['behavior_type'].astype('category')"
   ]
  },
  {
   "cell_type": "code",
   "execution_count": 15,
   "metadata": {},
   "outputs": [
    {
     "name": "stdout",
     "output_type": "stream",
     "text": [
      "<class 'pandas.core.frame.DataFrame'>\n",
      "RangeIndex: 802756 entries, 0 to 802755\n",
      "Data columns (total 8 columns):\n",
      " #   Column         Non-Null Count   Dtype         \n",
      "---  ------         --------------   -----         \n",
      " 0   user_id        802756 non-null  int64         \n",
      " 1   item_id        802756 non-null  int64         \n",
      " 2   behavior_type  802756 non-null  category      \n",
      " 3   user_geohash   252627 non-null  object        \n",
      " 4   item_category  802756 non-null  int64         \n",
      " 5   time           802756 non-null  datetime64[ns]\n",
      " 6   date           802756 non-null  datetime64[ns]\n",
      " 7   hour           802756 non-null  int64         \n",
      "dtypes: category(1), datetime64[ns](2), int64(4), object(1)\n",
      "memory usage: 40.6+ MB\n"
     ]
    },
    {
     "data": {
      "text/html": [
       "<div>\n",
       "<style scoped>\n",
       "    .dataframe tbody tr th:only-of-type {\n",
       "        vertical-align: middle;\n",
       "    }\n",
       "\n",
       "    .dataframe tbody tr th {\n",
       "        vertical-align: top;\n",
       "    }\n",
       "\n",
       "    .dataframe thead th {\n",
       "        text-align: right;\n",
       "    }\n",
       "</style>\n",
       "<table border=\"1\" class=\"dataframe\">\n",
       "  <thead>\n",
       "    <tr style=\"text-align: right;\">\n",
       "      <th></th>\n",
       "      <th>user_id</th>\n",
       "      <th>item_id</th>\n",
       "      <th>behavior_type</th>\n",
       "      <th>user_geohash</th>\n",
       "      <th>item_category</th>\n",
       "      <th>time</th>\n",
       "      <th>date</th>\n",
       "      <th>hour</th>\n",
       "    </tr>\n",
       "  </thead>\n",
       "  <tbody>\n",
       "    <tr>\n",
       "      <th>0</th>\n",
       "      <td>98047837</td>\n",
       "      <td>232431562</td>\n",
       "      <td>1</td>\n",
       "      <td>NaN</td>\n",
       "      <td>4245</td>\n",
       "      <td>2014-12-06 02:00:00</td>\n",
       "      <td>2014-12-06</td>\n",
       "      <td>2</td>\n",
       "    </tr>\n",
       "    <tr>\n",
       "      <th>1</th>\n",
       "      <td>97726136</td>\n",
       "      <td>383583590</td>\n",
       "      <td>1</td>\n",
       "      <td>NaN</td>\n",
       "      <td>5894</td>\n",
       "      <td>2014-12-09 20:00:00</td>\n",
       "      <td>2014-12-09</td>\n",
       "      <td>20</td>\n",
       "    </tr>\n",
       "    <tr>\n",
       "      <th>2</th>\n",
       "      <td>98607707</td>\n",
       "      <td>64749712</td>\n",
       "      <td>1</td>\n",
       "      <td>NaN</td>\n",
       "      <td>2883</td>\n",
       "      <td>2014-12-18 11:00:00</td>\n",
       "      <td>2014-12-18</td>\n",
       "      <td>11</td>\n",
       "    </tr>\n",
       "    <tr>\n",
       "      <th>3</th>\n",
       "      <td>98662432</td>\n",
       "      <td>320593836</td>\n",
       "      <td>1</td>\n",
       "      <td>96nn52n</td>\n",
       "      <td>6562</td>\n",
       "      <td>2014-12-06 10:00:00</td>\n",
       "      <td>2014-12-06</td>\n",
       "      <td>10</td>\n",
       "    </tr>\n",
       "    <tr>\n",
       "      <th>4</th>\n",
       "      <td>98145908</td>\n",
       "      <td>290208520</td>\n",
       "      <td>1</td>\n",
       "      <td>NaN</td>\n",
       "      <td>13926</td>\n",
       "      <td>2014-12-16 21:00:00</td>\n",
       "      <td>2014-12-16</td>\n",
       "      <td>21</td>\n",
       "    </tr>\n",
       "  </tbody>\n",
       "</table>\n",
       "</div>"
      ],
      "text/plain": [
       "    user_id    item_id behavior_type user_geohash  item_category  \\\n",
       "0  98047837  232431562             1          NaN           4245   \n",
       "1  97726136  383583590             1          NaN           5894   \n",
       "2  98607707   64749712             1          NaN           2883   \n",
       "3  98662432  320593836             1      96nn52n           6562   \n",
       "4  98145908  290208520             1          NaN          13926   \n",
       "\n",
       "                 time       date  hour  \n",
       "0 2014-12-06 02:00:00 2014-12-06     2  \n",
       "1 2014-12-09 20:00:00 2014-12-09    20  \n",
       "2 2014-12-18 11:00:00 2014-12-18    11  \n",
       "3 2014-12-06 10:00:00 2014-12-06    10  \n",
       "4 2014-12-16 21:00:00 2014-12-16    21  "
      ]
     },
     "execution_count": 15,
     "metadata": {},
     "output_type": "execute_result"
    }
   ],
   "source": [
    "data_user.info()\n",
    "data_user.head()"
   ]
  },
  {
   "cell_type": "code",
   "execution_count": 16,
   "metadata": {
    "scrolled": true
   },
   "outputs": [
    {
     "data": {
      "text/html": [
       "<div>\n",
       "<style scoped>\n",
       "    .dataframe tbody tr th:only-of-type {\n",
       "        vertical-align: middle;\n",
       "    }\n",
       "\n",
       "    .dataframe tbody tr th {\n",
       "        vertical-align: top;\n",
       "    }\n",
       "\n",
       "    .dataframe thead th {\n",
       "        text-align: right;\n",
       "    }\n",
       "</style>\n",
       "<table border=\"1\" class=\"dataframe\">\n",
       "  <thead>\n",
       "    <tr style=\"text-align: right;\">\n",
       "      <th></th>\n",
       "      <th>user_id</th>\n",
       "      <th>item_id</th>\n",
       "      <th>behavior_type</th>\n",
       "      <th>user_geohash</th>\n",
       "      <th>item_category</th>\n",
       "      <th>time</th>\n",
       "      <th>date</th>\n",
       "      <th>hour</th>\n",
       "    </tr>\n",
       "  </thead>\n",
       "  <tbody>\n",
       "    <tr>\n",
       "      <th>0</th>\n",
       "      <td>98047837</td>\n",
       "      <td>232431562</td>\n",
       "      <td>1</td>\n",
       "      <td>NaN</td>\n",
       "      <td>4245</td>\n",
       "      <td>2014-12-06 02:00:00</td>\n",
       "      <td>2014-12-06</td>\n",
       "      <td>2</td>\n",
       "    </tr>\n",
       "    <tr>\n",
       "      <th>1</th>\n",
       "      <td>97726136</td>\n",
       "      <td>383583590</td>\n",
       "      <td>1</td>\n",
       "      <td>NaN</td>\n",
       "      <td>5894</td>\n",
       "      <td>2014-12-09 20:00:00</td>\n",
       "      <td>2014-12-09</td>\n",
       "      <td>20</td>\n",
       "    </tr>\n",
       "    <tr>\n",
       "      <th>2</th>\n",
       "      <td>98607707</td>\n",
       "      <td>64749712</td>\n",
       "      <td>1</td>\n",
       "      <td>NaN</td>\n",
       "      <td>2883</td>\n",
       "      <td>2014-12-18 11:00:00</td>\n",
       "      <td>2014-12-18</td>\n",
       "      <td>11</td>\n",
       "    </tr>\n",
       "    <tr>\n",
       "      <th>3</th>\n",
       "      <td>98662432</td>\n",
       "      <td>320593836</td>\n",
       "      <td>1</td>\n",
       "      <td>96nn52n</td>\n",
       "      <td>6562</td>\n",
       "      <td>2014-12-06 10:00:00</td>\n",
       "      <td>2014-12-06</td>\n",
       "      <td>10</td>\n",
       "    </tr>\n",
       "    <tr>\n",
       "      <th>4</th>\n",
       "      <td>98145908</td>\n",
       "      <td>290208520</td>\n",
       "      <td>1</td>\n",
       "      <td>NaN</td>\n",
       "      <td>13926</td>\n",
       "      <td>2014-12-16 21:00:00</td>\n",
       "      <td>2014-12-16</td>\n",
       "      <td>21</td>\n",
       "    </tr>\n",
       "  </tbody>\n",
       "</table>\n",
       "</div>"
      ],
      "text/plain": [
       "    user_id    item_id behavior_type user_geohash  item_category  \\\n",
       "0  98047837  232431562             1          NaN           4245   \n",
       "1  97726136  383583590             1          NaN           5894   \n",
       "2  98607707   64749712             1          NaN           2883   \n",
       "3  98662432  320593836             1      96nn52n           6562   \n",
       "4  98145908  290208520             1          NaN          13926   \n",
       "\n",
       "                 time       date  hour  \n",
       "0 2014-12-06 02:00:00 2014-12-06     2  \n",
       "1 2014-12-09 20:00:00 2014-12-09    20  \n",
       "2 2014-12-18 11:00:00 2014-12-18    11  \n",
       "3 2014-12-06 10:00:00 2014-12-06    10  \n",
       "4 2014-12-16 21:00:00 2014-12-16    21  "
      ]
     },
     "execution_count": 16,
     "metadata": {},
     "output_type": "execute_result"
    }
   ],
   "source": [
    "#检查异常值，无异常\n",
    "data_user.sort_values(by='time')\n",
    "data_user.describe()\n",
    "data_user.head()"
   ]
  },
  {
   "cell_type": "code",
   "execution_count": 17,
   "metadata": {},
   "outputs": [
    {
     "name": "stdout",
     "output_type": "stream",
     "text": [
      "        date     pv\n",
      "0 2014-11-18  23943\n",
      "1 2014-11-19  23250\n",
      "2 2014-11-20  23372\n",
      "3 2014-11-21  21888\n",
      "4 2014-11-22  23832\n"
     ]
    },
    {
     "data": {
      "text/plain": [
       "<matplotlib.axes._subplots.AxesSubplot at 0x2e0bb1f0>"
      ]
     },
     "execution_count": 17,
     "metadata": {},
     "output_type": "execute_result"
    },
    {
     "data": {
      "image/png": "[encoded data removed]",
      "text/plain": [
       "<Figure size 432x288 with 2 Axes>"
      ]
     },
     "metadata": {
      "needs_background": "light"
     },
     "output_type": "display_data"
    }
   ],
   "source": [
    "#pv指的是每天用户操作次数,先用groupby找到每天的用户点击量，然后用reset—index将它变成一个dataframe 然后重新命名columns，这样就变成了一个新的dataframe\n",
    "#av指的是每天独立访客数量\n",
    "pv_daily=data_user.groupby('date')['user_id'].count().reset_index().rename(columns={'user_id':'pv'})\n",
    "print(pv_daily.head())\n",
    "fig,axes=plt.subplots(2,1,sharex=True)\n",
    "pv_daily.plot(x='date',y='pv',ax=axes[0])\n",
    "uv_daily=data_user.groupby('date')['user_id'].apply(lambda x:x.drop_duplicates().count()).reset_index().rename(columns={'user_id':'uv'})\n",
    "uv_daily.plot(x='date',y='uv',ax=axes[1])"
   ]
  },
  {
   "cell_type": "code",
   "execution_count": 18,
   "metadata": {},
   "outputs": [],
   "source": [
    "#uv记录每天不同用户额上线数量，如何用for来表达\n",
    "#av_daily=data_user.groupby('date')['user_id']\n",
    "#list=[]\n",
    "#for sector,data in av_daily:\n",
    "    #series(data).drop_duplicates()\n",
    "    #data.drop_duplicates(subset=av_daily['user_id'])\n",
    "    \n",
    "\n",
    "\n",
    "#fig,axes=plt.subplots(2,1,sharex=True)\n",
    "#pv_daily.plot(x='date',y='pv',ax=axes[0])"
   ]
  },
  {
   "cell_type": "code",
   "execution_count": 28,
   "metadata": {},
   "outputs": [
    {
     "data": {
      "text/plain": [
       "<pandas.core.groupby.generic.SeriesGroupBy object at 0x05B7F160>"
      ]
     },
     "execution_count": 28,
     "metadata": {},
     "output_type": "execute_result"
    }
   ],
   "source": [
    "#pv_hour表示每小时访问量，uv_hour表示每小时独立客户的数量.从这两个图像可以看出，0-5点无论是访问量还是独立用户都在呈下降趋势。五点之后到上午十点，独立用户数量明显增加\n",
    "#而晚上六点左右是用户点击量呈明显上升的趋势，说明六点以后是淘宝用户访问app的活跃阶段\n",
    "data_user.sort_values(by=['date','hour'],inplace=True)\n",
    "data_user.tail()\n",
    "\n"
   ]
  },
  {
   "cell_type": "code",
   "execution_count": 41,
   "metadata": {},
   "outputs": [
    {
     "data": {
      "text/plain": [
       "<matplotlib.axes._subplots.AxesSubplot at 0x4ff6100>"
      ]
     },
     "execution_count": 41,
     "metadata": {},
     "output_type": "execute_result"
    },
    {
     "data": {
      "image/png": "[encoded data removed]",
      "text/plain": [
       "<Figure size 432x288 with 2 Axes>"
      ]
     },
     "metadata": {
      "needs_background": "light"
     },
     "output_type": "display_data"
    }
   ],
   "source": [
    "pv_hour=data_user.groupby(['hour'])['user_id'].count().reset_index().rename(columns={'user_id':'count'})\n",
    "uv_hour=data_user.groupby(['hour'])['user_id'].apply(lambda x:x.drop_duplicates().count()).reset_index().rename(columns={'user_id':'count'})\n",
    "fig,axes=plt.subplots(2,1,sharex=True)\n",
    "pv_hour.plot(x='hour',y='count',ax=axes[0])\n",
    "uv_hour.plot(x='hour',y='count',ax=axes[1])\n",
    "                                                                                                                            \n",
    "                                                                                                "
   ]
  },
  {
   "cell_type": "code",
   "execution_count": 57,
   "metadata": {},
   "outputs": [
    {
     "name": "stdout",
     "output_type": "stream",
     "text": [
      "  behavior_type  hour  count\n",
      "0             1     0  33078\n",
      "1             1     1  17436\n",
      "2             1     2   9511\n",
      "3             1     3   6238\n",
      "4             1     4   4733\n"
     ]
    },
    {
     "data": {
      "text/plain": [
       "<matplotlib.axes._subplots.AxesSubplot at 0x22838778>"
      ]
     },
     "execution_count": 57,
     "metadata": {},
     "output_type": "execute_result"
    },
    {
     "data": {
      "image/png": "[encoded data removed]",
      "text/plain": [
       "<Figure size 432x288 with 2 Axes>"
      ]
     },
     "metadata": {
      "needs_background": "light"
     },
     "output_type": "display_data"
    }
   ],
   "source": [
    "#各种用户行为都在何时发生，点击、收藏、加购物车、支付四种行为，分别用数字1、2、3、4表示。\n",
    "#点击的行为活跃度最高，尤其在晚上六点之后。而加购物车的行为比收藏的行为要更多\n",
    "be_hour=data_user.groupby(['behavior_type','hour'])['user_id'].count().reset_index().rename(columns={'user_id':'count'})\n",
    "print(be_hour.head())\n",
    "fig,axes=plt.subplots(2,1,sharex=True)\n",
    "sns.pointplot(x='hour',y='count',hue='behavior_type',data=be_hour,ax=axes[0])\n",
    "\n",
    "be1_hour=be_hour[be_hour['behavior_type']!=1]\n",
    "sns.pointplot(x='hour',y='count',hue='behavior_type',data=be1_hour,ax=axes[1])\n"
   ]
  },
  {
   "cell_type": "code",
   "execution_count": null,
   "metadata": {},
   "outputs": [],
   "source": []
  },
  {
   "cell_type": "code",
   "execution_count": null,
   "metadata": {},
   "outputs": [],
   "source": []
  },
  {
   "cell_type": "code",
   "execution_count": null,
   "metadata": {},
   "outputs": [],
   "source": []
  },
  {
   "cell_type": "code",
   "execution_count": null,
   "metadata": {},
   "outputs": [],
   "source": []
  },
  {
   "cell_type": "code",
   "execution_count": null,
   "metadata": {},
   "outputs": [],
   "source": []
  },
  {
   "cell_type": "code",
   "execution_count": null,
   "metadata": {},
   "outputs": [],
   "source": []
  },
  {
   "cell_type": "code",
   "execution_count": null,
   "metadata": {},
   "outputs": [],
   "source": []
  }
 ],
 "metadata": {
  "kernelspec": {
   "display_name": "Python 3",
   "language": "python",
   "name": "python3"
  },
  "language_info": {
   "codemirror_mode": {
    "name": "ipython",
    "version": 3
   },
   "file_extension": ".py",
   "mimetype": "text/x-python",
   "name": "python",
   "nbconvert_exporter": "python",
   "pygments_lexer": "ipython3",
   "version": "3.8.1"
  }
 },
 "nbformat": 4,
 "nbformat_minor": 4
}
